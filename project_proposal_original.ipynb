{
 "cells": [
  {
   "cell_type": "markdown",
   "metadata": {},
   "source": [
    "# SCREEN TIME PROJECT\n",
    "## Introduction\n",
    "### Domain Introduction\n",
    "For this project I have decided to focus my data collection to the Technology Domain. More specifically, I have been recording my phone screen time over a two-month period. This domain is important to me because I am interested in how much of a role my phone plays in my life. Over the two months of data collecting I have gone through a couple of pretty significant life changes. I have chosen screen time for this project because I would like to study my technological habits in this time of change. Particularly I am interested in looking at my hourly fluctuation as well as what those hours were spent doing.\n",
    "\n",
    "\n",
    "### Hypotheses\n",
    "I hypothesize that my screen time will have increased over the data collection period. I predict that in addition to a rise in screen time, I will see in increase in my use of social media and entertainment. If my hypothesis is true, I will be impacted by the truth of the significant role of my screen in my life. I am curious if I have become more susceptible to the engagement, growth, and advertising efforts made by technology companies as discussed in our DA5 data ethics. In this case I am the only stakeholder interested in my results because I would like to see the time/effort I have put into my phone over the past couple months. From there I am hoping to analyze my behavior and see where I can improve.\n",
    "\n",
    "## Data Analysis (cont.)\n",
    "### Dataset Description\n",
    "For this project I have included a screen_time dataset and a days_of_week dataset.\n",
    "\n",
    "Both datasets are in .CSV format and have been included in my Github repo.\n",
    "\n",
    "My screen_time data set was collected using the I Phone feature 'Screen Time' which allows me to access real time reports about how much time I am spending on my screen and what I am doing with those hours. Data is collected daily as is divided into the following categories:\n",
    "\n",
    "* Date\n",
    "    * This column provides the date\n",
    "* Daily Average\n",
    "    * This is the number of hours total spent on the screen\n",
    "* Social\n",
    "    * This row is categorized by hours spent on social media platforms such as Instagram, Snapchat, Tinder, Facebook, etc.\n",
    "* Entertainment\n",
    "    * This row is categorized by hours spent on entertianment platforms such as Spotify, YouTube, Hulu, Netflix, etc.\n",
    "* Productivity\n",
    "    * This row is categorized by hours spent on productivity platforms. I have set my productivity settings to measure how much time I spend on emails, phone calls, banking apps, etc.\n",
    "* Creativity\n",
    "    * This row is categorized by hours spent on productivity platforms. I have set my creativity settings to measure how much time I spend on apps such as editors and e-reading platforms that utalzie my brain more than the apps listed in the social/entertianment sections.\n",
    " * Other\n",
    "    * This row is categorized by hours spent on my phone doing activities that did not fit into the above categories.\n",
    "My days_of_week data set was collected using a calender and the date listed in my screen_time 'Date' column listed above. I matched the date from the column to one of the seven days of the week and output my information to a .CSV file. My collected data is divided into the following categories:\n",
    "\n",
    "* Date\n",
    "    * This column provides the date.\n",
    "* Day of Week\n",
    "    * This column provides the day of the week on which the date fell.\n",
    "    \n",
    "### Data Preparation\n",
    "When cleaning my data set, I did not run into many issues. There were some missing values, however, this did not have much effect on my data cleaning. For example, on any given day, screen time might have provided me with the hours spent socially, productively, and creatively but leave out entertainment or other. I assumed that if no data was provided that would be because no data was recorded. I filled in these spots with ‘0’ based on this assumption.When it comes to merging my two tables, I plan to use a similar approach as seen in previous Data Assignments and class examples.The biggest challenge I anticipate in preparing my data is merging my two tables. I worry that I will not be able to merge the tables correctly/in the way I was intending.\n",
    "\n",
    "If there is a better way to go about cleaning my data or something I should change, please let me know.\n",
    "### Exploratory Data Analysis\n",
    "When aggregating my data, I hope to use as many techniques as possible. For this project, I feel that the more statistics the better. This will allow me to gather more statistical information on how I spend my time. I am interested in the minimum and maximum of my ‘Daily Average’ category. In addition to minimum and maximum, I would also like to compute the sum and mean of each category that adds up to my daily average. Visually, I would like to create graphs that show my screen usage overtime. My main graph will be an overview of my daily average screen time usage. In addition to this, I would like to compute a graph for each category that shows the increase/decrease of my screen usage for each of my categories. The\n",
    "\n",
    "### Classification\n",
    "Overall, I hypothesize an increase in my social and entertainment attributes. I anticipate challenges with my classification because I am not entirely sure how to classify my data in terms of attributes correctly. I will be reaching out for clarification in the near future."
   ]
  },
  {
   "cell_type": "code",
   "execution_count": null,
   "metadata": {},
   "outputs": [],
   "source": []
  }
 ],
 "metadata": {
  "kernelspec": {
   "display_name": "Python 3",
   "language": "python",
   "name": "python3"
  },
  "language_info": {
   "codemirror_mode": {
    "name": "ipython",
    "version": 3
   },
   "file_extension": ".py",
   "mimetype": "text/x-python",
   "name": "python",
   "nbconvert_exporter": "python",
   "pygments_lexer": "ipython3",
   "version": "3.8.5"
  }
 },
 "nbformat": 4,
 "nbformat_minor": 4
}
